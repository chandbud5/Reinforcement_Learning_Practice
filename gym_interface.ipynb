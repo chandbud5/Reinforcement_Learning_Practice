{
  "nbformat": 4,
  "nbformat_minor": 0,
  "metadata": {
    "colab": {
      "name": "gym_interface.ipynb",
      "provenance": []
    },
    "kernelspec": {
      "name": "python3",
      "display_name": "Python 3"
    }
  },
  "cells": [
    {
      "cell_type": "code",
      "metadata": {
        "id": "9BivFHnGAWO5",
        "colab_type": "code",
        "colab": {
          "base_uri": "https://localhost:8080/",
          "height": 34
        },
        "outputId": "1368cff2-85e4-4404-e2a7-7c286e06a3a4"
      },
      "source": [
        "import sys, os\n",
        "if 'google.colab' in sys.modules and not os.path.exists('.setup_complete'):\n",
        "    !wget -q https://raw.githubusercontent.com/yandexdataschool/Practical_RL/spring20/setup_colab.sh -O- | bash\n",
        "\n",
        "    !wget -q https://raw.githubusercontent.com/yandexdataschool/Practical_RL/coursera/grading.py -O ../grading.py\n",
        "    !wget -q https://raw.githubusercontent.com/yandexdataschool/Practical_RL/coursera/week1_intro/submit.py\n",
        "\n",
        "    !touch .setup_complete\n",
        "\n",
        "# This code creates a virtual display to draw game images on.\n",
        "# It will have no effect if your machine has a monitor.\n",
        "if type(os.environ.get(\"DISPLAY\")) is not str or len(os.environ.get(\"DISPLAY\")) == 0:\n",
        "    !bash ../xvfb start\n",
        "    os.environ['DISPLAY'] = ':1'"
      ],
      "execution_count": 3,
      "outputs": [
        {
          "output_type": "stream",
          "text": [
            "Starting virtual X frame buffer: Xvfb.\n"
          ],
          "name": "stdout"
        }
      ]
    },
    {
      "cell_type": "code",
      "metadata": {
        "id": "HzHcoGFCAWO9",
        "colab_type": "code",
        "colab": {}
      },
      "source": [
        "import numpy as np\n",
        "import matplotlib.pyplot as plt\n",
        "%matplotlib inline"
      ],
      "execution_count": 4,
      "outputs": []
    },
    {
      "cell_type": "markdown",
      "metadata": {
        "id": "u2Fc3UeHAWPA",
        "colab_type": "text"
      },
      "source": [
        "### OpenAI Gym\n",
        "\n",
        "We're gonna spend several next weeks learning algorithms that solve decision processes. We are then in need of some interesting decision problems to test our algorithms.\n",
        "\n",
        "That's where OpenAI gym comes into play. It's a python library that wraps many classical decision problems including robot control, videogames and board games.\n",
        "\n",
        "So here's how it works:"
      ]
    },
    {
      "cell_type": "code",
      "metadata": {
        "id": "aB7l9iKoAWPB",
        "colab_type": "code",
        "colab": {
          "base_uri": "https://localhost:8080/",
          "height": 303
        },
        "outputId": "0832cb7b-29b1-4eb6-b573-91d2e40204f0"
      },
      "source": [
        "import gym\n",
        "\n",
        "env = gym.make(\"MountainCar-v0\")\n",
        "env.reset()\n",
        "\n",
        "plt.imshow(env.render('rgb_array'))\n",
        "print(\"Observation space:\", env.observation_space)\n",
        "print(\"Action space:\", env.action_space)"
      ],
      "execution_count": 5,
      "outputs": [
        {
          "output_type": "stream",
          "text": [
            "Observation space: Box(2,)\n",
            "Action space: Discrete(3)\n"
          ],
          "name": "stdout"
        },
        {
          "output_type": "display_data",
          "data": {
            "image/png": "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\n",
            "text/plain": [
              "<Figure size 432x288 with 1 Axes>"
            ]
          },
          "metadata": {
            "tags": [],
            "needs_background": "light"
          }
        }
      ]
    },
    {
      "cell_type": "markdown",
      "metadata": {
        "id": "ArESjFD4AWPE",
        "colab_type": "text"
      },
      "source": [
        "Note: if you're running this on your local machine, you'll see a window pop up with the image above. Don't close it, just alt-tab away."
      ]
    },
    {
      "cell_type": "markdown",
      "metadata": {
        "id": "d24NssRcAWPE",
        "colab_type": "text"
      },
      "source": [
        "### Gym interface\n",
        "\n",
        "The three main methods of an environment are\n",
        "* __reset()__ - reset environment to initial state, _return first observation_\n",
        "* __render()__ - show current environment state (a more colorful version :) )\n",
        "* __step(a)__ - commit action __a__ and return (new observation, reward, is done, info)\n",
        " * _new observation_ - an observation right after commiting the action __a__\n",
        " * _reward_ - a number representing your reward for commiting action __a__\n",
        " * _is done_ - True if the MDP has just finished, False if still in progress\n",
        " * _info_ - some auxilary stuff about what just happened. Ignore it ~~for now~~."
      ]
    },
    {
      "cell_type": "code",
      "metadata": {
        "id": "hDP3mEWjAWPG",
        "colab_type": "code",
        "colab": {
          "base_uri": "https://localhost:8080/",
          "height": 34
        },
        "outputId": "8d00d0d5-7809-4d95-d21b-8e818933ad67"
      },
      "source": [
        "obs0 = env.reset()\n",
        "print(\"initial observation code:\", obs0)\n",
        "\n",
        "# Note: in MountainCar, observation is just two numbers: car position and velocity"
      ],
      "execution_count": 6,
      "outputs": [
        {
          "output_type": "stream",
          "text": [
            "initial observation code: [-0.56902615  0.        ]\n"
          ],
          "name": "stdout"
        }
      ]
    },
    {
      "cell_type": "code",
      "metadata": {
        "id": "0-NIH0hkAWPJ",
        "colab_type": "code",
        "colab": {
          "base_uri": "https://localhost:8080/",
          "height": 85
        },
        "outputId": "93c888c8-b905-4638-982d-b8d6d9bc7e8a"
      },
      "source": [
        "print(\"taking action 2 (right)\")\n",
        "new_obs, reward, is_done, _ = env.step(2)\n",
        "\n",
        "print(\"new observation code:\", new_obs)\n",
        "print(\"reward:\", reward)\n",
        "print(\"is game over?:\", is_done)\n",
        "\n",
        "# Note: as you can see, the car has moved to the right slightly (around 0.0005)"
      ],
      "execution_count": 7,
      "outputs": [
        {
          "output_type": "stream",
          "text": [
            "taking action 2 (right)\n",
            "new observation code: [-0.56768649  0.00133965]\n",
            "reward: -1.0\n",
            "is game over?: False\n"
          ],
          "name": "stdout"
        }
      ]
    },
    {
      "cell_type": "markdown",
      "metadata": {
        "id": "YVDLPVeGAWPM",
        "colab_type": "text"
      },
      "source": [
        "### Play with it\n",
        "\n",
        "Below is the code that drives the car to the right. However, if you simply use the default policy, the car will not reach the flag at the far right due to gravity.\n",
        "\n",
        "__Your task__ is to fix it. Find a strategy that reaches the flag. \n",
        "\n",
        "You are not required to build any sophisticated algorithms for now, feel free to hard-code :)"
      ]
    },
    {
      "cell_type": "code",
      "metadata": {
        "id": "rrE53ALfAWPN",
        "colab_type": "code",
        "colab": {}
      },
      "source": [
        "from IPython import display\n",
        "\n",
        "# Create env manually to set time limit. Please don't change this.\n",
        "TIME_LIMIT = 250\n",
        "env = gym.wrappers.TimeLimit(\n",
        "    gym.envs.classic_control.MountainCarEnv(),\n",
        "    max_episode_steps=TIME_LIMIT + 1,\n",
        ")\n",
        "actions = {'left': 0, 'stop': 1, 'right': 2}"
      ],
      "execution_count": 8,
      "outputs": []
    },
    {
      "cell_type": "code",
      "metadata": {
        "id": "sI64YFYzAWPQ",
        "colab_type": "code",
        "colab": {}
      },
      "source": [
        "def policy(obs, t):\n",
        "    # Write the code for your policy here. You can use the observation\n",
        "    # (a tuple of position and velocity), the current time step, or both,\n",
        "    # if you want.\n",
        "    return 2 - 2 * (obs[1]<1e-6)\n",
        "    # This is an example policy. You can try running it, but it will not work.\n",
        "    # Your goal is to fix that."
      ],
      "execution_count": 29,
      "outputs": []
    },
    {
      "cell_type": "code",
      "metadata": {
        "id": "sshkjYMZAWPT",
        "colab_type": "code",
        "colab": {
          "base_uri": "https://localhost:8080/",
          "height": 201
        },
        "outputId": "87b973a6-5b34-4994-c824-133abe4cf969"
      },
      "source": [
        "plt.figure(figsize=(4, 3))\n",
        "display.clear_output(wait=True)\n",
        "\n",
        "obs = env.reset()\n",
        "for t in range(TIME_LIMIT):\n",
        "    plt.gca().clear()\n",
        "    \n",
        "    action = policy(obs, t)  # Call your policy\n",
        "    obs, reward, done, _ = env.step(action)  # Pass the action chosen by the policy to the environment\n",
        "    \n",
        "    # We don't do anything with reward here because MountainCar is a very simple environment,\n",
        "    # and reward is a constant -1. Therefore, your goal is to end the episode as quickly as possible.\n",
        "\n",
        "    # Draw game image on display.\n",
        "    plt.imshow(env.render('rgb_array'))\n",
        "    \n",
        "    display.clear_output(wait=True)\n",
        "    display.display(plt.gcf())\n",
        "\n",
        "    if done:\n",
        "        print(\"Well done!\")\n",
        "        break\n",
        "else:\n",
        "    print(\"Time limit exceeded. Try again.\")\n",
        "\n",
        "display.clear_output(wait=True)"
      ],
      "execution_count": 30,
      "outputs": [
        {
          "output_type": "display_data",
          "data": {
            "image/png": "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\n",
            "text/plain": [
              "<Figure size 288x216 with 1 Axes>"
            ]
          },
          "metadata": {
            "tags": [],
            "needs_background": "light"
          }
        }
      ]
    },
    {
      "cell_type": "code",
      "metadata": {
        "id": "Ya13oUyTAWPV",
        "colab_type": "code",
        "colab": {
          "base_uri": "https://localhost:8080/",
          "height": 51
        },
        "outputId": "be7525de-18a1-49d0-ca7a-b50d4752e562"
      },
    {
      "cell_type": "code",
      "metadata": {
        "id": "VskULIAvGKyr",
        "colab_type": "code",
        "colab": {}
      },
      "source": [
        ""
      ],
      "execution_count": null,
      "outputs": []
    }
  ]
}
